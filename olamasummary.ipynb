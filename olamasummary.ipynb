{
 "cells": [
  {
   "cell_type": "markdown",
   "id": "d15d8294-3328-4e07-ad16-8a03e9bbfdb9",
   "metadata": {},
   "source": [
    "# Welcome to your first assignment!\n",
    "\n",
    "Instructions are below. Please give this a try, and look in the solutions folder if you get stuck (or feel free to ask me!)"
   ]
  },
  {
   "cell_type": "markdown",
   "id": "ada885d9-4d42-4d9b-97f0-74fbbbfe93a9",
   "metadata": {},
   "source": [
    "<table style=\"margin: 0; text-align: left;\">\n",
    "    <tr>\n",
    "        <td style=\"width: 150px; height: 150px; vertical-align: middle;\">\n",
    "            <img src=\"../resources.jpg\" width=\"150\" height=\"150\" style=\"display: block;\" />\n",
    "        </td>\n",
    "        <td>\n",
    "            <h2 style=\"color:#f71;\">Just before we get to the assignment --</h2>\n",
    "            <span style=\"color:#f71;\">I thought I'd take a second to point you at this page of useful resources for the course. This includes links to all the slides.<br/>\n",
    "            <a href=\"https://edwarddonner.com/2024/11/13/llm-engineering-resources/\">https://edwarddonner.com/2024/11/13/llm-engineering-resources/</a><br/>\n",
    "            Please keep this bookmarked, and I'll continue to add more useful links there over time.\n",
    "            </span>\n",
    "        </td>\n",
    "    </tr>\n",
    "</table>"
   ]
  },
  {
   "cell_type": "markdown",
   "id": "6e9fa1fc-eac5-4d1d-9be4-541b3f2b3458",
   "metadata": {},
   "source": [
    "# HOMEWORK EXERCISE ASSIGNMENT\n",
    "\n",
    "Upgrade the day 1 project to summarize a webpage to use an Open Source model running locally via Ollama rather than OpenAI\n",
    "\n",
    "You'll be able to use this technique for all subsequent projects if you'd prefer not to use paid APIs.\n",
    "\n",
    "**Benefits:**\n",
    "1. No API charges - open-source\n",
    "2. Data doesn't leave your box\n",
    "\n",
    "**Disadvantages:**\n",
    "1. Significantly less power than Frontier Model\n",
    "\n",
    "## Recap on installation of Ollama\n",
    "\n",
    "Simply visit [ollama.com](https://ollama.com) and install!\n",
    "\n",
    "Once complete, the ollama server should already be running locally.  \n",
    "If you visit:  \n",
    "[http://localhost:11434/](http://localhost:11434/)\n",
    "\n",
    "You should see the message `Ollama is running`.  \n",
    "\n",
    "If not, bring up a new Terminal (Mac) or Powershell (Windows) and enter `ollama serve`  \n",
    "And in another Terminal (Mac) or Powershell (Windows), enter `ollama pull llama3.2`  \n",
    "Then try [http://localhost:11434/](http://localhost:11434/) again.\n",
    "\n",
    "If Ollama is slow on your machine, try using `llama3.2:1b` as an alternative. Run `ollama pull llama3.2:1b` from a Terminal or Powershell, and change the code below from `MODEL = \"llama3.2\"` to `MODEL = \"llama3.2:1b\"`"
   ]
  },
  {
   "cell_type": "code",
   "execution_count": 39,
   "id": "4e2a9393-7767-488e-a8bf-27c12dca35bd",
   "metadata": {},
   "outputs": [],
   "source": [
    "# imports\n",
    "\n",
    "import requests\n",
    "from bs4 import BeautifulSoup\n",
    "from IPython.display import Markdown, display"
   ]
  },
  {
   "cell_type": "code",
   "execution_count": 40,
   "id": "f3edd0aa-30e7-4b3b-b2df-c05a5b6092ab",
   "metadata": {},
   "outputs": [],
   "source": [
    "# A function that writes a User Prompt that asks for summaries of websites:\n",
    "\n",
    "# Define our system prompt - you can experiment with this later, changing the last sentence to 'Respond in markdown in Spanish.\"\n",
    "# A class to represent a Webpage\n",
    "# If you're not familiar with Classes, check out the \"Intermediate Python\" notebook\n",
    "\n",
    "\n",
    "    "
   ]
  },
  {
   "cell_type": "code",
   "execution_count": null,
   "id": "0bba397f-582e-4187-a894-709061f263b8",
   "metadata": {},
   "outputs": [],
   "source": []
  },
  {
   "cell_type": "code",
   "execution_count": null,
   "id": "77f12378-3284-48d5-80c1-91c6d8fca7f0",
   "metadata": {},
   "outputs": [],
   "source": []
  },
  {
   "cell_type": "code",
   "execution_count": null,
   "id": "3a933e56-4b64-4689-97c5-f6e667c26354",
   "metadata": {},
   "outputs": [],
   "source": []
  },
  {
   "cell_type": "code",
   "execution_count": null,
   "id": "386c0639-751b-4359-b7a2-a1c773f65d83",
   "metadata": {},
   "outputs": [],
   "source": []
  },
  {
   "cell_type": "code",
   "execution_count": null,
   "id": "312e6390-7314-426a-829b-53145d298a55",
   "metadata": {},
   "outputs": [],
   "source": []
  },
  {
   "cell_type": "code",
   "execution_count": 41,
   "id": "29ddd15d-a3c5-4f4e-a678-873f56162724",
   "metadata": {},
   "outputs": [],
   "source": [
    "# Constants\n",
    "\n",
    "OLLAMA_API = \"http://localhost:11434/api/chat\"\n",
    "HEADERS = {\"Content-Type\": \"application/json\"}\n",
    "MODEL = \"llama3.2\""
   ]
  },
  {
   "cell_type": "code",
   "execution_count": null,
   "id": "423ea30a-9e93-449a-bf0c-1139130bf469",
   "metadata": {},
   "outputs": [],
   "source": []
  },
  {
   "cell_type": "code",
   "execution_count": null,
   "id": "50d06303-23f2-4860-bbb1-a5bfa82f63a7",
   "metadata": {},
   "outputs": [],
   "source": []
  },
  {
   "cell_type": "code",
   "execution_count": null,
   "id": "02675424-f5f6-4c33-999e-19c103e768eb",
   "metadata": {},
   "outputs": [],
   "source": []
  },
  {
   "cell_type": "code",
   "execution_count": 42,
   "id": "dac0a679-599c-441f-9bf2-ddc73d35b940",
   "metadata": {},
   "outputs": [],
   "source": [
    "# Create a messages list using the same format that we used for OpenAI\n",
    "\n",
    "messages = [\n",
    "    {\"role\": \"user\", \"content\": \"GIVE ME THE SUMMARY OF THE TRANSFORMERS\"}\n",
    "]"
   ]
  },
  {
   "cell_type": "code",
   "execution_count": 43,
   "id": "7bb9c624-14f0-4945-a719-8ddb64f66f47",
   "metadata": {},
   "outputs": [],
   "source": [
    "payload = {\n",
    "        \"model\": MODEL,\n",
    "        \"messages\": messages,\n",
    "        \"stream\": False\n",
    "    }"
   ]
  },
  {
   "cell_type": "code",
   "execution_count": null,
   "id": "7ee99b61-f248-46f9-9f4c-545d0b8f8588",
   "metadata": {},
   "outputs": [],
   "source": []
  },
  {
   "cell_type": "code",
   "execution_count": 44,
   "id": "42b9f644-522d-4e05-a691-56e7658c0ea9",
   "metadata": {},
   "outputs": [
    {
     "name": "stdout",
     "output_type": "stream",
     "text": [
      "Here's a summary of the Transformers franchise:\n",
      "\n",
      "**The Origin Story**\n",
      "\n",
      "In ancient times, the planet Cybertron was home to two factions: the Autobots and the Decepticons. The Autobots, led by Optimus Prime, were a peaceful and noble people who valued freedom and protection. The Decepticons, led by Megatron, sought power and control over Cybertron.\n",
      "\n",
      "**The War**\n",
      "\n",
      "A catastrophic event known as the \"Great Fall\" caused Cybertron's core to explode, separating the planet into two halves: Autobotia (where the Autobots lived) and Decepticonia (where the Decepticons lived). The war between the two factions raged on for centuries, with both sides seeking to destroy each other.\n",
      "\n",
      "**The Humans**\n",
      "\n",
      "Unbeknownst to Cybertron's inhabitants, humans had been exploring space and discovered the Transformers' planet. As the war intensified, humans became caught in the crossfire, and some were transformed into living machines known as \"Transformers\" (specifically, the Autobot/Decepticon prototypes).\n",
      "\n",
      "**The Modern Era**\n",
      "\n",
      "In the present day, a human named Sam Witwicky discovers that he is one of these Transformers. He soon becomes embroiled in an intergalactic conflict between the Autobots and Decepticons.\n",
      "\n",
      "**Key Characters**\n",
      "\n",
      "* Optimus Prime: The leader of the Autobots, who seeks to protect humanity and defend the innocent.\n",
      "* Megatron: The leader of the Decepticons, who seeks to conquer and destroy all life in the universe.\n",
      "* Bumblebee: A loyal Autobot who serves as Sam's friend and protector.\n",
      "* Sam Witwicky: A human who is transformed into a sentient being and becomes involved in the Transformers' conflict.\n",
      "\n",
      "**Key Films**\n",
      "\n",
      "1. **Transformers (2007)**: The first film introduces us to the modern-day Transformers, where Sam Witwicky discovers his connection to the Autobots and Megatron's plans for Earth.\n",
      "2. **Transformers: Revenge of the Fallen (2009)**: The second film explores the origins of the Decepticons and their quest to destroy humanity.\n",
      "3. **Transformers: Dark of the Moon (2011)**: The third film introduces new characters, including Shia LaBeouf's character, Sam Witwicky, as he battles against the Decepticons' plans for Earth.\n",
      "4. **Transformers: Age of Extinction (2014)**: The fourth film takes place decades after the events of Dark of the Moon and introduces new Autobot and Decepticon characters.\n",
      "5. **Transformers: The Last Knight (2017)**: The fifth film explores the origins of Optimus Prime and the legend of the Knights Templar.\n",
      "\n",
      "**Other Media**\n",
      "\n",
      "The Transformers franchise has expanded to include various other media, such as:\n",
      "\n",
      "* Animated series (e.g., Generation 1, Beast Wars)\n",
      "* Comic books\n",
      "* Video games (e.g., Transformers: War for Cybertron)\n",
      "\n",
      "This summary provides a brief overview of the Transformers franchise's core story and characters. However, there is much more to explore in this vast and complex universe!\n"
     ]
    }
   ],
   "source": [
    "response = requests.post(OLLAMA_API, json=payload, headers=HEADERS)\n",
    "print(response.json()['message']['content'])"
   ]
  },
  {
   "cell_type": "code",
   "execution_count": 49,
   "id": "f2f4d023-600c-46e3-b6a5-26303a5ce41e",
   "metadata": {},
   "outputs": [
    {
     "name": "stdout",
     "output_type": "stream",
     "text": [
      "model='llama3.2' created_at='2024-12-01T15:18:15.794551Z' done=True done_reason='stop' total_duration=6676350916 load_duration=36802666 prompt_eval_count=883 prompt_eval_duration=2537000000 eval_count=181 eval_duration=4091000000 message=Message(role='assistant', content='### Summary\\nThe website \\'IPL T20 | Indian Premier League Official Website\\' provides information on the Indian Premier League (IPL). It includes:\\n\\n* **News and Announcements**:\\n\\t+ Recent player auction results, including high-profile signings like Rishabh Pant and Shreyas Iyer.\\n\\t+ The youngest ever sold player in the TATA IPL Auction, Vaibhav Suryavanshi.\\n* **Team Information**:\\n\\t+ Overview of participating teams, including their logos and names.\\n* **Official Partnerships**:\\n\\t+ List of official partners, broadcasters, and sponsors.\\n* **Governing Council and Rules**:\\n\\t+ Details on the IPL Code of Conduct, Anti-Discrimination Policy, and other governing council policies.\\n\\nNote that navigation-related sections (e.g., \"Team\", \"About\", \"Contact\") have been ignored in this summary.', images=None, tool_calls=None)\n"
     ]
    },
    {
     "data": {
      "text/markdown": [
       "### Summary\n",
       "The website 'IPL T20 | Indian Premier League Official Website' provides information on the Indian Premier League (IPL). It includes:\n",
       "\n",
       "* **News and Announcements**:\n",
       "\t+ Recent player auction results, including high-profile signings like Rishabh Pant and Shreyas Iyer.\n",
       "\t+ The youngest ever sold player in the TATA IPL Auction, Vaibhav Suryavanshi.\n",
       "* **Team Information**:\n",
       "\t+ Overview of participating teams, including their logos and names.\n",
       "* **Official Partnerships**:\n",
       "\t+ List of official partners, broadcasters, and sponsors.\n",
       "* **Governing Council and Rules**:\n",
       "\t+ Details on the IPL Code of Conduct, Anti-Discrimination Policy, and other governing council policies.\n",
       "\n",
       "Note that navigation-related sections (e.g., \"Team\", \"About\", \"Contact\") have been ignored in this summary."
      ],
      "text/plain": [
       "<IPython.core.display.Markdown object>"
      ]
     },
     "metadata": {},
     "output_type": "display_data"
    }
   ],
   "source": [
    "class Website:\n",
    "    def __init__(self, url):\n",
    "        \"\"\"Create this Website object from the given URL using the BeautifulSoup library.\"\"\"\n",
    "        self.url = url\n",
    "        response = requests.get(url)\n",
    "        soup = BeautifulSoup(response.content, 'html.parser')\n",
    "        self.title = soup.title.string if soup.title else \"No title found\"\n",
    "        for irrelevant in soup.body([\"script\", \"style\", \"img\", \"input\"]):\n",
    "            irrelevant.decompose()\n",
    "        self.text = soup.body.get_text(separator=\"\\n\", strip=True)\n",
    "\n",
    "# Functions for creating prompt\n",
    "system_prompt = (\n",
    "    \"You are an assistant that analyzes the contents of a website and provides a short summary, \"\n",
    "    \"ignoring text that might be navigation-related. Respond in markdown.\"\n",
    ")\n",
    "\n",
    "def user_prompt_for(website):\n",
    "    \"\"\"Create a user-specific prompt for the website.\"\"\"\n",
    "    user_prompt = f\"You are looking at a website titled '{website.title}'.\\n\"\n",
    "    user_prompt += (\n",
    "        \"The contents of this website are as follows; please provide a short summary of this website in markdown. \"\n",
    "        \"If it includes news or announcements, then summarize these too.\\n\\n\"\n",
    "    )\n",
    "    user_prompt += website.text\n",
    "    return user_prompt\n",
    "\n",
    "def messages_for(website):\n",
    "    \"\"\"Create messages for Ollama.\"\"\"\n",
    "    return [\n",
    "        {\"role\": \"system\", \"content\": system_prompt},\n",
    "        {\"role\": \"user\", \"content\": user_prompt_for(website)}\n",
    "    ]\n",
    "\n",
    "# Main code to summarize a website using Ollama\n",
    "def summarize_website(url):\n",
    "    try:\n",
    "        # Extract website content\n",
    "        website = Website(url)\n",
    "        messages = messages_for(website)\n",
    "\n",
    "        # Call the Ollama model\n",
    "        response = ollama.chat(model=MODEL, messages=messages)\n",
    "\n",
    "        # Inspect the response to determine its structure\n",
    "        print(response)  # Debugging line to inspect structure\n",
    "\n",
    "        # Extract the summary based on the structure\n",
    "        summary = response.message['content']  # Adjust this based on the actual response format\n",
    "        \n",
    "        display(Markdown(summary))\n",
    "    except AttributeError as e:\n",
    "        print(f\"Attribute error occurred: {e}\")\n",
    "    except Exception as e:\n",
    "        print(f\"An error occurred: {e}\")\n",
    "\n",
    "\n",
    "\n",
    "# Example usage\n",
    "summarize_website(\"https://www.iplt20.com/\")"
   ]
  },
  {
   "cell_type": "markdown",
   "id": "6a021f13-d6a1-4b96-8e18-4eae49d876fe",
   "metadata": {},
   "source": [
    "# Introducing the ollama package\n",
    "\n",
    "And now we'll do the same thing, but using the elegant ollama python package instead of a direct HTTP call.\n",
    "\n",
    "Under the hood, it's making the same call as above to the ollama server running at localhost:11434"
   ]
  },
  {
   "cell_type": "code",
   "execution_count": 25,
   "id": "7745b9c4-57dc-4867-9180-61fa5db55eb8",
   "metadata": {},
   "outputs": [
    {
     "ename": "SyntaxError",
     "evalue": "positional argument follows keyword argument (2015352661.py, line 3)",
     "output_type": "error",
     "traceback": [
      "\u001b[0;36m  Cell \u001b[0;32mIn[25], line 3\u001b[0;36m\u001b[0m\n\u001b[0;31m    response = ollama.chat(model=MODEL, messages=messages, URL)\u001b[0m\n\u001b[0m                                                              ^\u001b[0m\n\u001b[0;31mSyntaxError\u001b[0m\u001b[0;31m:\u001b[0m positional argument follows keyword argument\n"
     ]
    }
   ],
   "source": [
    "import ollama\n",
    "\n",
    "response = ollama.chat(model=MODEL, messages=messages, )\n",
    "print(response['message']['content'])"
   ]
  },
  {
   "cell_type": "markdown",
   "id": "1622d9bb-5c68-4d4e-9ca4-b492c751f898",
   "metadata": {},
   "source": [
    "# NOW the exercise for you\n",
    "\n",
    "Take the code from day1 and incorporate it here, to build a website summarizer that uses Llama 3.2 running locally instead of OpenAI"
   ]
  },
  {
   "cell_type": "code",
   "execution_count": 7,
   "id": "8a5620a5-8ebd-43c6-a716-811bbd264eec",
   "metadata": {},
   "outputs": [],
   "source": [
    "# And now: call the OpenAI API. You will get very familiar with this!\n",
    "\n",
    "# Define our system prompt - you can experiment with this later, changing the last sentence to 'Respond in markdown in Spanish.\"\n",
    "\n",
    "\n",
    "\n",
    "# A function that writes a User Prompt that asks for summaries of websites:\n",
    "\n",
    "# Define our system prompt - you can experiment with this later, changing the last sentence to 'Respond in markdown in Spanish.\"\n",
    "# A class to represent a Webpage\n",
    "# If you're not familiar with Classes, check out the \"Intermediate Python\" notebook\n",
    "\n",
    "class Website:\n",
    "\n",
    "    def __init__(self, url):\n",
    "        \"\"\"\n",
    "        Create this Website object from the given url using the BeautifulSoup library\n",
    "        \"\"\"\n",
    "        self.url = url\n",
    "        response = requests.get(url)\n",
    "        soup = BeautifulSoup(response.content, 'html.parser')\n",
    "        self.title = soup.title.string if soup.title else \"No title found\"\n",
    "        for irrelevant in soup.body([\"script\", \"style\", \"img\", \"input\"]):\n",
    "            irrelevant.decompose()\n",
    "        self.text = soup.body.get_text(separator=\"\\n\", strip=True)\n",
    "\n",
    "\n",
    "\n",
    "\n",
    "ed = Website(\"https://edwarddonner.com\")\n",
    "print(ed.title)\n",
    "print(ed.text)\n",
    "\n",
    "\n",
    "\n",
    "\n",
    "system_prompt = \"You are an assistant that analyzes the contents of a website \\\n",
    "and provides a short summary, ignoring text that might be navigation related. \\\n",
    "Respond in markdown.\"\n",
    "\n",
    "\n",
    "def user_prompt_for(website):\n",
    "    user_prompt = f\"You are looking at a website titled {website.title}\"\n",
    "    user_prompt += \"\\nThe contents of this website is as follows; \\\n",
    "please provide a short summary of this website in markdown. \\\n",
    "If it includes news or announcements, then summarize these too.\\n\\n\"\n",
    "    user_prompt += website.text\n",
    "    return user_prompt\n",
    "\n",
    "\n",
    "\n",
    "\n",
    "\n",
    "\n",
    "\n",
    "def messages_for(website):\n",
    "    return [\n",
    "        {\"role\": \"system\", \"content\": system_prompt},\n",
    "        {\"role\": \"user\", \"content\": user_prompt_for(website)}\n",
    "    ]\n",
    "\n",
    "\n",
    "\n",
    "\n",
    "    "
   ]
  },
  {
   "cell_type": "code",
   "execution_count": null,
   "id": "50e198aa-2664-4848-a910-efa4555a2446",
   "metadata": {},
   "outputs": [],
   "source": []
  },
  {
   "cell_type": "code",
   "execution_count": null,
   "id": "2f0c7a5b-cb52-4198-b174-dd285229adec",
   "metadata": {},
   "outputs": [],
   "source": []
  }
 ],
 "metadata": {
  "kernelspec": {
   "display_name": "Python 3 (ipykernel)",
   "language": "python",
   "name": "python3"
  },
  "language_info": {
   "codemirror_mode": {
    "name": "ipython",
    "version": 3
   },
   "file_extension": ".py",
   "mimetype": "text/x-python",
   "name": "python",
   "nbconvert_exporter": "python",
   "pygments_lexer": "ipython3",
   "version": "3.11.10"
  }
 },
 "nbformat": 4,
 "nbformat_minor": 5
}
